{
 "cells": [
  {
   "cell_type": "code",
   "execution_count": 1,
   "id": "841c64c9",
   "metadata": {},
   "outputs": [],
   "source": [
    "class Symb(dict):\n",
    "    def valmult(self,m,d1):\n",
    "        return {k:(m*v) for k,v in d1.items()}\n",
    "    \n",
    "    def dictmerge(self,d1,d2):\n",
    "        def getval(k):\n",
    "            if k in d1 and k in d2: val= d1[k]+d2[k]\n",
    "            elif k in d1: val= d1[k]\n",
    "            elif k in d2: val= d2[k]\n",
    "            else: val = None\n",
    "            return val\n",
    "\n",
    "        return{k:getval(k) for k in d1|d2 if getval(k) != 0}\n",
    "    \n",
    "    def dictdiff(self,d1,d2):\n",
    "        def getval(k):\n",
    "            if k in d1 and k in d2: val= d1[k]-d2[k]\n",
    "            elif k in d1: val= d1[k]\n",
    "            elif k in d2: val= -d2[k]\n",
    "            else: val = None\n",
    "            return val\n",
    "    \n",
    "        return{k:getval(k) for k in d1|d2 if getval(k) != 0}\n",
    "    \n",
    "    def __add__(self, othersymb):\n",
    "        if isinstance(othersymb,Symb): os=othersymb\n",
    "        else: os=Symb(othersymb)\n",
    "        s=self.dictmerge(self,os)\n",
    "        #print(Symb(s))\n",
    "        #print(s,os.mydict,self.mydict)\n",
    "        return Symb(s)\n",
    "    \n",
    "    def __radd__(self, other):\n",
    "        return self.__add__(other)\n",
    "    \n",
    "    def __sub__(self, othersymb):\n",
    "        return Symb(self.dictdiff(self,othersymb))\n",
    "\n",
    "    def __rsub__(self, othersymb):\n",
    "        return Symb(self.dictdiff(othersymb,self))\n",
    "\n",
    "    def __mul__(self,const):\n",
    "        return Symb(self.valmult(const,self))\n",
    "    \n",
    "    def __rmul__(self,const):\n",
    "        return Symb(self.valmult(const,self))\n",
    "    \n",
    "    def __getitem__(self,key):\n",
    "        if key in self: return super().__getitem__(key)\n",
    "        else: return 0"
   ]
  },
  {
   "cell_type": "code",
   "execution_count": 2,
   "id": "53378b2d",
   "metadata": {},
   "outputs": [],
   "source": []
  },
  {
   "cell_type": "code",
   "execution_count": 5,
   "id": "299a495c",
   "metadata": {},
   "outputs": [
    {
     "name": "stdout",
     "output_type": "stream",
     "text": [
      "abcd\n"
     ]
    }
   ],
   "source": []
  },
  {
   "cell_type": "code",
   "execution_count": null,
   "id": "38fc98fc",
   "metadata": {},
   "outputs": [],
   "source": [
    "#strike out the provided letter pair, in order, from all keys in the provided symb.\n",
    "#If this can be done multiple ways, return all instances:\n",
    "strike_letters(symb,symb_low,lett1,lett2)"
   ]
  },
  {
   "cell_type": "code",
   "execution_count": null,
   "id": "24a60dff",
   "metadata": {},
   "outputs": [],
   "source": [
    "#strike out the Nth instance of the provided letter pair, in strikeout order, from all keys in the provided symb.\n",
    "#If this can be done multiple ways, return all instances.\n",
    "strike_Nth_lettpair(symb,symb_low,lett1,lett2,N)"
   ]
  },
  {
   "cell_type": "code",
   "execution_count": null,
   "id": "42bb21a9",
   "metadata": {},
   "outputs": [],
   "source": [
    "#strike all possible letter pairs from all keys in the provided symb.\n",
    "strike_all(symb,symb_low)"
   ]
  },
  {
   "cell_type": "code",
   "execution_count": null,
   "id": "e701095f",
   "metadata": {},
   "outputs": [],
   "source": [
    "#strike all letter pairs within k slots of each other from all keys in the provided symb.\n"
   ]
  }
 ],
 "metadata": {
  "kernelspec": {
   "display_name": "AIAA",
   "language": "python",
   "name": "aiaa"
  },
  "language_info": {
   "codemirror_mode": {
    "name": "ipython",
    "version": 3
   },
   "file_extension": ".py",
   "mimetype": "text/x-python",
   "name": "python",
   "nbconvert_exporter": "python",
   "pygments_lexer": "ipython3",
   "version": "3.10.14"
  }
 },
 "nbformat": 4,
 "nbformat_minor": 5
}
