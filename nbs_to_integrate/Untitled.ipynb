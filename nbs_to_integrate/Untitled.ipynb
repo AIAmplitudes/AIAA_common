{
 "cells": [
  {
   "cell_type": "code",
   "execution_count": 1,
   "id": "587697ac",
   "metadata": {},
   "outputs": [],
   "source": [
    "def find_all(a_str, sub):\n",
    "    start = 0\n",
    "    while True:\n",
    "        start = a_str.find(sub, start)\n",
    "        if start == -1: return\n",
    "        yield start\n",
    "        start += len(sub)"
   ]
  },
  {
   "cell_type": "code",
   "execution_count": 7,
   "id": "369d8c00",
   "metadata": {},
   "outputs": [],
   "source": [
    "def get_appearancecount(key,slot):\n",
    "    letter=key[slot]\n",
    "    return [i for i in find_all(key,letter)].index(slot)"
   ]
  },
  {
   "cell_type": "code",
   "execution_count": 11,
   "id": "62165f88",
   "metadata": {},
   "outputs": [
    {
     "data": {
      "text/plain": [
       "3"
      ]
     },
     "execution_count": 11,
     "metadata": {},
     "output_type": "execute_result"
    }
   ],
   "source": [
    "get_appearancecount('aaaa',3)"
   ]
  },
  {
   "cell_type": "code",
   "execution_count": 13,
   "id": "7ce4e06a",
   "metadata": {},
   "outputs": [],
   "source": [
    "key='abbcd'\n",
    "pos1=2"
   ]
  },
  {
   "cell_type": "code",
   "execution_count": 17,
   "id": "35ea316e",
   "metadata": {},
   "outputs": [
    {
     "data": {
      "text/plain": [
       "'cd'"
      ]
     },
     "execution_count": 17,
     "metadata": {},
     "output_type": "execute_result"
    }
   ],
   "source": [
    "key[pos1 + 1:None]"
   ]
  },
  {
   "cell_type": "code",
   "execution_count": 32,
   "id": "5e5e08f1",
   "metadata": {},
   "outputs": [],
   "source": [
    "def operate(key, slots, k=None):\n",
    "    # k: all slots in the operation must be within 'k'\n",
    "    slots.sort()\n",
    "    if any(slot > len(key)-1 for slot in slots): raise ValueError\n",
    "    if k is not None:\n",
    "        if (slots[-1] - slots[0]) >= k: return None\n",
    "    \n",
    "    midstring=''.join([key[pos0 + 1:pos1] for pos0,pos1 in zip(slots, slots[1:])])\n",
    "    strike_key = key[:slots[0]] + midstring + key[slots[-1] + 1:]\n",
    "    return strike_key"
   ]
  },
  {
   "cell_type": "code",
   "execution_count": 38,
   "id": "d1a5d601",
   "metadata": {},
   "outputs": [
    {
     "data": {
      "text/plain": [
       "'abce'"
      ]
     },
     "execution_count": 38,
     "metadata": {},
     "output_type": "execute_result"
    }
   ],
   "source": [
    "operate('abcdef',[5,3,5])"
   ]
  },
  {
   "cell_type": "code",
   "execution_count": null,
   "id": "56b08e9b",
   "metadata": {},
   "outputs": [],
   "source": []
  }
 ],
 "metadata": {
  "kernelspec": {
   "display_name": "AIAA",
   "language": "python",
   "name": "aiaa"
  },
  "language_info": {
   "codemirror_mode": {
    "name": "ipython",
    "version": 3
   },
   "file_extension": ".py",
   "mimetype": "text/x-python",
   "name": "python",
   "nbconvert_exporter": "python",
   "pygments_lexer": "ipython3",
   "version": "3.10.14"
  }
 },
 "nbformat": 4,
 "nbformat_minor": 5
}
